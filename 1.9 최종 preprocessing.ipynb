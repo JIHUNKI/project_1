{
 "cells": [
  {
   "cell_type": "code",
   "execution_count": 11,
   "metadata": {},
   "outputs": [],
   "source": [
    "import pandas as pd\n",
    "import matplotlib.pyplot as plt\n",
    "import seaborn as sns\n",
    "import warnings\n",
    "from scipy import stats\n",
    "import numpy as np\n",
    "%matplotlib inline"
   ]
  },
  {
   "cell_type": "code",
   "execution_count": 12,
   "metadata": {},
   "outputs": [],
   "source": [
    "대주주외국인지분변화 = pd.read_csv('./datasets/대주주외국인지분변화.csv',encoding='utf-8-sig',index_col=0)\n",
    "산업분류_G임금 = pd.read_csv('./datasets/산업분류_G임금.csv',encoding='utf-8-sig',index_col=0)\n",
    "토빈Q = pd.read_csv('./datasets/토빈Q.csv',encoding='utf-8-sig',index_col=0)\n",
    "현금흐름 = pd.read_csv('./datasets/현금흐름.csv',encoding='utf-8-sig',index_col=0)\n",
    "RDS = pd.read_csv('./datasets/RDS.csv',encoding='utf-8-sig',index_col=0)\n",
    "target = pd.read_csv('./datasets/target.csv',encoding='utf-8-sig',index_col=0)\n",
    "ww = pd.read_csv('./datasets/ww지수.csv',encoding='utf-8-sig',index_col=0)"
   ]
  },
  {
   "cell_type": "code",
   "execution_count": 13,
   "metadata": {},
   "outputs": [],
   "source": [
    " #회계년도컬럼, 년도만 뽑아서 int화\n",
    "def change_year(x):\n",
    "    return int(x[:4])\n",
    "대주주외국인지분변화[\"회계년도\"] = 대주주외국인지분변화[\"회계년도\"].map(change_year) # 년도만 표시"
   ]
  },
  {
   "cell_type": "code",
   "execution_count": 14,
   "metadata": {},
   "outputs": [],
   "source": [
    "df = pd.merge(대주주외국인지분변화,산업분류_G임금, on=['회사명','거래소코드','회계년도'],how='inner')\n",
    "df = pd.merge(df,토빈Q, on=['회사명','거래소코드','회계년도'],how='inner')\n",
    "df = pd.merge(df,현금흐름, on=['회사명','거래소코드','회계년도'],how='inner')\n",
    "df = pd.merge(df,RDS, on=['회사명','거래소코드','회계년도'],how='inner')\n",
    "df = pd.merge(df,target, on=['회사명','거래소코드','회계년도'],how='inner')\n",
    "df = pd.merge(df,ww,on=['회사명','거래소코드','회계년도'],how='inner')"
   ]
  },
  {
   "cell_type": "code",
   "execution_count": 15,
   "metadata": {},
   "outputs": [
    {
     "data": {
      "text/plain": [
       "(14547, 47)"
      ]
     },
     "execution_count": 15,
     "metadata": {},
     "output_type": "execute_result"
    }
   ],
   "source": [
    "df.shape"
   ]
  },
  {
   "cell_type": "code",
   "execution_count": 16,
   "metadata": {},
   "outputs": [
    {
     "data": {
      "text/plain": [
       "Index(['회사명', '거래소코드', '회계년도', '대주주지분변화분', '외국인지분분변화', '상장일', '자산',\n",
       "       '당기순이익(손실)', '미처분이익잉여금(결손금)', '총자본증가율', '비유동자산증가율', '유동자산증가율',\n",
       "       '자기자본증가율', '매출액증가율', '정상영업이익증가율', '순이익증가율', '총포괄이익증가율', '매출액순이익률',\n",
       "       '총자본순이익률', '자기자본순이익률', '매출원가대매출액비율', '광고선전비대매출액비율', '유보율', '비유동비율',\n",
       "       '유동비율', '당좌비율', '현금비율', '부채비율', '유동부채비율', '차입금비율', '이자보상배율(이자비용)',\n",
       "       '유보액대비율', '유보액대납입자본배율', '투자집중도', '통계청 한국표준산업분류 10차(대분류)', '직급명',\n",
       "       '1인평균지급액(임원)', '1인년간평균급여(직원)', '토빈Q', '영업활동으로인한현금흐름(간접법)(천원)',\n",
       "       '투자활동으로인한현금흐름(천원)', '재무활동으로인한현금흐름(천원)', '연구비', '경상개발비', '매출액(영업수익)',\n",
       "       'target', 'WW지수'],\n",
       "      dtype='object')"
      ]
     },
     "execution_count": 16,
     "metadata": {},
     "output_type": "execute_result"
    }
   ],
   "source": [
    "df.columns"
   ]
  },
  {
   "cell_type": "code",
   "execution_count": 17,
   "metadata": {},
   "outputs": [],
   "source": [
    "# RDS = (경상개발비 + 연구비 )/매출액\n",
    "df['RDS'] = (df['경상개발비'] + df['연구비']) / df['매출액(영업수익)']\n",
    "df.drop(['경상개발비','연구비','매출액(영업수익)'],axis=1,inplace=True)"
   ]
  },
  {
   "cell_type": "code",
   "execution_count": 18,
   "metadata": {},
   "outputs": [],
   "source": [
    "## 기업주기 \n",
    "for i in range(df.shape[0]):\n",
    "    if (df.loc[i,'영업활동으로인한현금흐름(간접법)(천원)']<0) and (df.loc[i,'투자활동으로인한현금흐름(천원)']<0) and (df.loc[i,'재무활동으로인한현금흐름(천원)']>0):\n",
    "        df.loc[i,'수명주기'] = '도입기'\n",
    "    elif (df.loc[i,'영업활동으로인한현금흐름(간접법)(천원)']>0) and (df.loc[i,'투자활동으로인한현금흐름(천원)']<0) and (df.loc[i,'재무활동으로인한현금흐름(천원)']>0):\n",
    "        df.loc[i,'수명주기'] = '성장기'\n",
    "    elif (df.loc[i,'영업활동으로인한현금흐름(간접법)(천원)']>0) and (df.loc[i,'투자활동으로인한현금흐름(천원)']<0) and (df.loc[i,'재무활동으로인한현금흐름(천원)']<0):\n",
    "        df.loc[i,'수명주기'] = '성숙기'\n",
    "    else:\n",
    "        df.loc[i,'수명주기'] = '쇠퇴기'\n",
    "\n",
    "df.drop(['영업활동으로인한현금흐름(간접법)(천원)','투자활동으로인한현금흐름(천원)','재무활동으로인한현금흐름(천원)'],axis=1,inplace=True)"
   ]
  },
  {
   "cell_type": "code",
   "execution_count": 19,
   "metadata": {},
   "outputs": [],
   "source": [
    "df.dropna(inplace=True)\n",
    "# 해당 년도 매출액 및 영업이익의 연결범위 변동으로 인한 결측치 삭제"
   ]
  },
  {
   "cell_type": "code",
   "execution_count": 20,
   "metadata": {},
   "outputs": [],
   "source": [
    "df.to_csv('최종.csv',encoding='UTF-8-sig')"
   ]
  },
  {
   "cell_type": "code",
   "execution_count": null,
   "metadata": {},
   "outputs": [],
   "source": []
  }
 ],
 "metadata": {
  "kernelspec": {
   "display_name": "base",
   "language": "python",
   "name": "python3"
  },
  "language_info": {
   "codemirror_mode": {
    "name": "ipython",
    "version": 3
   },
   "file_extension": ".py",
   "mimetype": "text/x-python",
   "name": "python",
   "nbconvert_exporter": "python",
   "pygments_lexer": "ipython3",
   "version": "3.9.13"
  },
  "orig_nbformat": 4
 },
 "nbformat": 4,
 "nbformat_minor": 2
}
