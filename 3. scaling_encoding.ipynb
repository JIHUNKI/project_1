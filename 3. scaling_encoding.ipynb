{
 "cells": [
  {
   "cell_type": "code",
   "execution_count": 67,
   "metadata": {},
   "outputs": [],
   "source": [
    "import pandas as pd\n",
    "import numpy as np\n",
    "\n",
    "from sklearn.preprocessing import StandardScaler, MaxAbsScaler, MinMaxScaler , RobustScaler "
   ]
  },
  {
   "cell_type": "code",
   "execution_count": 68,
   "metadata": {},
   "outputs": [],
   "source": [
    "#  수명주기 -> 숫자로 인코딩\n",
    "# 직급명 , 회사명제거, 거래소코드 , 상장일 , 대분류 삭제컬럼\n",
    "\n",
    "# 회계년도 기준으로 train , test split \n",
    "#                   1) 2013~2019  ,  2020~2021 : 년도 기준으로나눈거고"
   ]
  },
  {
   "cell_type": "code",
   "execution_count": 69,
   "metadata": {},
   "outputs": [
    {
     "data": {
      "text/plain": [
       "Index(['target', '거래소코드', '상장일', '수명주기', '직급명', '통계청 한국표준산업분류 10차(대분류)',\n",
       "       '회계년도', '회사명', '대주주지분변화분', '외국인지분분변화', '자산', '당기순이익(손실)',\n",
       "       '미처분이익잉여금(결손금)', '총자본증가율', '비유동자산증가율', '유동자산증가율', '자기자본증가율', '매출액증가율',\n",
       "       '정상영업이익증가율', '순이익증가율', '총포괄이익증가율', '매출액순이익률', '총자본순이익률', '자기자본순이익률',\n",
       "       '매출원가대매출액비율', '광고선전비대매출액비율', '유보율', '비유동비율', '유동비율', '당좌비율', '현금비율',\n",
       "       '부채비율', '유동부채비율', '차입금비율', '이자보상배율(이자비용)', '유보액대비율', '유보액대납입자본배율',\n",
       "       '투자집중도', '1인평균지급액(임원)', '1인년간평균급여(직원)', '토빈Q', 'WW지수', 'RDS'],\n",
       "      dtype='object')"
      ]
     },
     "execution_count": 69,
     "metadata": {},
     "output_type": "execute_result"
    }
   ],
   "source": [
    "df = pd.read_csv('./datasets/이상치제거csv/윈저라이징.csv',index_col=0)\n",
    "df.columns"
   ]
  },
  {
   "cell_type": "code",
   "execution_count": 70,
   "metadata": {},
   "outputs": [],
   "source": [
    "## 11~12년도는 y taget 설정조건으로 인하여 제거\n",
    "\n",
    "bef_df = df[~(df['회계년도'].isin([2011,2012]))].reset_index(drop=True)"
   ]
  },
  {
   "cell_type": "code",
   "execution_count": 71,
   "metadata": {},
   "outputs": [],
   "source": [
    "bef_df.drop(['직급명','회사명','거래소코드','상장일','통계청 한국표준산업분류 10차(대분류)'],axis=1,inplace=True)"
   ]
  },
  {
   "cell_type": "code",
   "execution_count": 72,
   "metadata": {},
   "outputs": [],
   "source": [
    "### 성장주기 변수 onehot인코딩 get_dummy()\n",
    "dummy = pd.get_dummies(bef_df['수명주기'])\n",
    "bef_df.drop(['수명주기'],axis=1,inplace=True)\n",
    "bef_df = pd.concat([bef_df,dummy],axis=1)"
   ]
  },
  {
   "cell_type": "code",
   "execution_count": 73,
   "metadata": {},
   "outputs": [],
   "source": [
    "### 회계년도 기준 split\n",
    "\n",
    "train = bef_df[bef_df['회계년도']<=2019].reset_index(drop=True)\n",
    "test = bef_df[bef_df['회계년도']>=2020].reset_index(drop=True)\n",
    "\n",
    "train_y = train[['target']]\n",
    "train_x = train[[ '대주주지분변화분', '외국인지분분변화', '자산', '당기순이익(손실)',\n",
    "       '미처분이익잉여금(결손금)', '총자본증가율', '비유동자산증가율', '유동자산증가율', '자기자본증가율', '매출액증가율',\n",
    "       '정상영업이익증가율', '순이익증가율', '총포괄이익증가율', '매출액순이익률', '총자본순이익률', '자기자본순이익률',\n",
    "       '매출원가대매출액비율', '광고선전비대매출액비율', '유보율', '비유동비율', '유동비율', '당좌비율', '현금비율',\n",
    "       '부채비율', '유동부채비율', '차입금비율', '이자보상배율(이자비용)', '유보액대비율', '유보액대납입자본배율',\n",
    "       '투자집중도', '1인평균지급액(임원)', '1인년간평균급여(직원)', '토빈Q', 'WW지수', 'RDS', '도입기',\n",
    "       '성숙기', '성장기', '쇠퇴기']]\n",
    "\n",
    "test_y = test[['target']]\n",
    "test_x = test[[ '대주주지분변화분', '외국인지분분변화', '자산', '당기순이익(손실)',\n",
    "       '미처분이익잉여금(결손금)', '총자본증가율', '비유동자산증가율', '유동자산증가율', '자기자본증가율', '매출액증가율',\n",
    "       '정상영업이익증가율', '순이익증가율', '총포괄이익증가율', '매출액순이익률', '총자본순이익률', '자기자본순이익률',\n",
    "       '매출원가대매출액비율', '광고선전비대매출액비율', '유보율', '비유동비율', '유동비율', '당좌비율', '현금비율',\n",
    "       '부채비율', '유동부채비율', '차입금비율', '이자보상배율(이자비용)', '유보액대비율', '유보액대납입자본배율',\n",
    "       '투자집중도', '1인평균지급액(임원)', '1인년간평균급여(직원)', '토빈Q', 'WW지수', 'RDS', '도입기',\n",
    "       '성숙기', '성장기', '쇠퇴기']]\n",
    "\n",
    "scale_list = [ '대주주지분변화분', '외국인지분분변화', '자산', '당기순이익(손실)',\n",
    "       '미처분이익잉여금(결손금)', '총자본증가율', '비유동자산증가율', '유동자산증가율', '자기자본증가율', '매출액증가율',\n",
    "       '정상영업이익증가율', '순이익증가율', '총포괄이익증가율', '매출액순이익률', '총자본순이익률', '자기자본순이익률',\n",
    "       '매출원가대매출액비율', '광고선전비대매출액비율', '유보율', '비유동비율', '유동비율', '당좌비율', '현금비율',\n",
    "       '부채비율', '유동부채비율', '차입금비율', '이자보상배율(이자비용)', '유보액대비율', '유보액대납입자본배율',\n",
    "       '투자집중도', '1인평균지급액(임원)', '1인년간평균급여(직원)', '토빈Q', 'WW지수', 'RDS']"
   ]
  },
  {
   "attachments": {},
   "cell_type": "markdown",
   "metadata": {},
   "source": [
    "## 범주형변수 잠시 분리"
   ]
  },
  {
   "cell_type": "code",
   "execution_count": 74,
   "metadata": {},
   "outputs": [],
   "source": [
    "train_수명주기 = train_x[[ '도입기','성숙기', '성장기', '쇠퇴기']] \n",
    "test_수명주기 = test_x[[ '도입기','성숙기', '성장기', '쇠퇴기']]"
   ]
  },
  {
   "attachments": {},
   "cell_type": "markdown",
   "metadata": {},
   "source": [
    "## Standarscaler"
   ]
  },
  {
   "cell_type": "code",
   "execution_count": 75,
   "metadata": {},
   "outputs": [],
   "source": [
    "scaler = StandardScaler()\n",
    "### train\n",
    "standar_train = scaler.fit_transform(train_x[scale_list])\n",
    "\n",
    "임시_df= pd.DataFrame(standar_train, columns=scale_list)\n",
    "standar_train_x = pd.concat([임시_df,train_수명주기],axis=1)\n",
    "\n",
    "### test\n",
    "standar_test = scaler.transform(test_x[scale_list])\n",
    "\n",
    "임시_df= pd.DataFrame(standar_test, columns=scale_list)\n",
    "standar_test_x = pd.concat([임시_df,test_수명주기],axis=1)\n"
   ]
  },
  {
   "cell_type": "code",
   "execution_count": null,
   "metadata": {},
   "outputs": [],
   "source": [
    "stand_train = pd.concat([standar_train_x, train_y],axis=1)\n",
    "stand_test = pd.concat([standar_test_x, test_y],axis=1)\n",
    "\n",
    "standar_df = pd.concat([stand_train,stand_test],axis=0).reset_index(drop=True)\n",
    "standar_df\n",
    "\n",
    "## 다시 csv로 저장"
   ]
  },
  {
   "attachments": {},
   "cell_type": "markdown",
   "metadata": {},
   "source": [
    "## MINMAXscaler"
   ]
  },
  {
   "cell_type": "code",
   "execution_count": 77,
   "metadata": {},
   "outputs": [],
   "source": [
    "scaler = MinMaxScaler()\n",
    "### train\n",
    "minmax_train = scaler.fit_transform(train_x[scale_list])\n",
    "\n",
    "임시_df= pd.DataFrame(minmax_train, columns=scale_list)\n",
    "minmax_train_x = pd.concat([임시_df,train_수명주기],axis=1)\n",
    "\n",
    "### test\n",
    "minmax_test = scaler.transform(test_x[scale_list])\n",
    "\n",
    "임시_df= pd.DataFrame(minmax_test, columns=scale_list)\n",
    "minmax_test_x = pd.concat([임시_df,test_수명주기],axis=1)\n"
   ]
  },
  {
   "cell_type": "code",
   "execution_count": null,
   "metadata": {},
   "outputs": [],
   "source": [
    "mm_train = pd.concat([minmax_train_x, train_y],axis=1)\n",
    "mm_test = pd.concat([minmax_test_x, test_y],axis=1)\n",
    "\n",
    "minmax_df = pd.concat([mm_train,mm_test],axis=0).reset_index(drop=True)\n",
    "minmax_df\n",
    "\n",
    "## 다시 csv로 저장\n",
    "## 근데 이거 돌려보니까 엄청크면 1 엄청작으면 0으로 과대해석하는 경향이 보임\n",
    "## 하드코딩으로 (x-min)/(max-min)으로 하거나\n",
    "## log취하고 하는게 맞아보임"
   ]
  },
  {
   "attachments": {},
   "cell_type": "markdown",
   "metadata": {},
   "source": [
    "## MAXABSscaler"
   ]
  },
  {
   "cell_type": "code",
   "execution_count": 80,
   "metadata": {},
   "outputs": [],
   "source": [
    "scaler = MaxAbsScaler()\n",
    "### train\n",
    "maxabs_train = scaler.fit_transform(train_x[scale_list])\n",
    "\n",
    "임시_df= pd.DataFrame(maxabs_train, columns=scale_list)\n",
    "maxabs_train_x = pd.concat([임시_df,train_수명주기],axis=1)\n",
    "\n",
    "### test\n",
    "maxabs_test = scaler.transform(test_x[scale_list])\n",
    "\n",
    "임시_df= pd.DataFrame(maxabs_test, columns=scale_list)\n",
    "maxabs_test_x = pd.concat([임시_df,test_수명주기],axis=1)\n"
   ]
  },
  {
   "attachments": {},
   "cell_type": "markdown",
   "metadata": {},
   "source": [
    "## robustScaler"
   ]
  },
  {
   "cell_type": "code",
   "execution_count": 81,
   "metadata": {},
   "outputs": [],
   "source": [
    "scaler = RobustScaler()\n",
    "### train\n",
    "robust_train = scaler.fit_transform(train_x[scale_list])\n",
    "\n",
    "임시_df= pd.DataFrame(robust_train, columns=scale_list)\n",
    "robust_train_x = pd.concat([임시_df,train_수명주기],axis=1)\n",
    "\n",
    "### test\n",
    "robust_test = scaler.transform(test_x[scale_list])\n",
    "\n",
    "임시_df= pd.DataFrame(robust_test, columns=scale_list)\n",
    "robust_test_x = pd.concat([임시_df,test_수명주기],axis=1)\n"
   ]
  },
  {
   "cell_type": "code",
   "execution_count": null,
   "metadata": {},
   "outputs": [],
   "source": []
  }
 ],
 "metadata": {
  "kernelspec": {
   "display_name": "base",
   "language": "python",
   "name": "python3"
  },
  "language_info": {
   "codemirror_mode": {
    "name": "ipython",
    "version": 3
   },
   "file_extension": ".py",
   "mimetype": "text/x-python",
   "name": "python",
   "nbconvert_exporter": "python",
   "pygments_lexer": "ipython3",
   "version": "3.9.13"
  },
  "orig_nbformat": 4
 },
 "nbformat": 4,
 "nbformat_minor": 2
}
